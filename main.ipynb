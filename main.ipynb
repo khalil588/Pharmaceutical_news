{
 "cells": [
  {
   "cell_type": "code",
   "execution_count": 1,
   "metadata": {},
   "outputs": [],
   "source": [
    "import pandas as pd \n",
    "import yfinance as yf "
   ]
  },
  {
   "cell_type": "code",
   "execution_count": 2,
   "metadata": {},
   "outputs": [],
   "source": [
    "data = yf.Ticker('AAPL').get_news()"
   ]
  },
  {
   "cell_type": "code",
   "execution_count": 3,
   "metadata": {},
   "outputs": [
    {
     "data": {
      "text/plain": [
       "[{'uuid': '22baf100-0d14-4754-b2ae-e00016683a22',\n",
       "  'title': 'Why the S&P 500 is poised to rocket 100% in 5 years',\n",
       "  'publisher': 'Yahoo Finance',\n",
       "  'link': 'https://finance.yahoo.com/news/why-the-sp-500-is-poised-to-rocket-100-in-5-years-130007834.html',\n",
       "  'providerPublishTime': 1720266192,\n",
       "  'type': 'STORY',\n",
       "  'thumbnail': {'resolutions': [{'url': 'https://s.yimg.com/uu/api/res/1.2/gnzzOAKHurNet1nZb_FMTg--~B/aD00NDAyO3c9NjYxNDthcHBpZD15dGFjaHlvbg--/https://s.yimg.com/os/creatr-uploaded-images/2024-07/d3dd4ce0-3974-11ef-b9ff-a0053ad29fee',\n",
       "     'width': 6614,\n",
       "     'height': 4402,\n",
       "     'tag': 'original'},\n",
       "    {'url': 'https://s.yimg.com/uu/api/res/1.2/mildKCA5hOm089JeOJzo6w--~B/Zmk9ZmlsbDtoPTE0MDtweW9mZj0wO3c9MTQwO2FwcGlkPXl0YWNoeW9u/https://s.yimg.com/os/creatr-uploaded-images/2024-07/d3dd4ce0-3974-11ef-b9ff-a0053ad29fee',\n",
       "     'width': 140,\n",
       "     'height': 140,\n",
       "     'tag': '140x140'}]},\n",
       "  'relatedTickers': ['JPM', '^GSPC', 'WFC', 'NVDA', '^DJI', 'AAPL']},\n",
       " {'uuid': '34611b64-755a-3132-9acb-3f01adb17db4',\n",
       "  'title': 'Apple and Tesla Are the Only \"Magnificent Seven\" Stocks Trailing the S&P 500 So Far This Year. Are They Worth Buying Now?',\n",
       "  'publisher': 'Motley Fool',\n",
       "  'link': 'https://finance.yahoo.com/m/34611b64-755a-3132-9acb-3f01adb17db4/apple-and-tesla-are-the-only.html',\n",
       "  'providerPublishTime': 1720261560,\n",
       "  'type': 'STORY',\n",
       "  'thumbnail': {'resolutions': [{'url': 'https://s.yimg.com/uu/api/res/1.2/05ukOhHPspwZIqRORoWfJA--~B/aD02NzU7dz0xMjAwO2FwcGlkPXl0YWNoeW9u/https://media.zenfs.com/en/motleyfool.com/17701c6b866e487ebbc50b21e46dcf89',\n",
       "     'width': 1200,\n",
       "     'height': 675,\n",
       "     'tag': 'original'},\n",
       "    {'url': 'https://s.yimg.com/uu/api/res/1.2/7JnCTmBNyLIeCoYNjRgLvA--~B/Zmk9ZmlsbDtoPTE0MDtweW9mZj0wO3c9MTQwO2FwcGlkPXl0YWNoeW9u/https://media.zenfs.com/en/motleyfool.com/17701c6b866e487ebbc50b21e46dcf89',\n",
       "     'width': 140,\n",
       "     'height': 140,\n",
       "     'tag': '140x140'}]},\n",
       "  'relatedTickers': ['AAPL', 'TSLA', '^GSPC', 'MSFT', 'NVDA']},\n",
       " {'uuid': '2e508dde-cfc6-3ada-9043-d04ca7114e86',\n",
       "  'title': 'The 2 Most Important Questions in Investing',\n",
       "  'publisher': 'Motley Fool',\n",
       "  'link': 'https://finance.yahoo.com/m/2e508dde-cfc6-3ada-9043-d04ca7114e86/the-2-most-important.html',\n",
       "  'providerPublishTime': 1720215351,\n",
       "  'type': 'STORY',\n",
       "  'thumbnail': {'resolutions': [{'url': 'https://s.yimg.com/uu/api/res/1.2/A7jHpZF4ixn_TQ7WI9vMxg--~B/aD0xMDgwO3c9MTkyMDthcHBpZD15dGFjaHlvbg--/https://media.zenfs.com/en/motleyfool.com/40e9a1c8667e9516d41a03a858ca819b',\n",
       "     'width': 1920,\n",
       "     'height': 1080,\n",
       "     'tag': 'original'},\n",
       "    {'url': 'https://s.yimg.com/uu/api/res/1.2/5hbHyS3KzZ8HNzFLkSZCag--~B/Zmk9ZmlsbDtoPTE0MDtweW9mZj0wO3c9MTQwO2FwcGlkPXl0YWNoeW9u/https://media.zenfs.com/en/motleyfool.com/40e9a1c8667e9516d41a03a858ca819b',\n",
       "     'width': 140,\n",
       "     'height': 140,\n",
       "     'tag': '140x140'}]},\n",
       "  'relatedTickers': ['ASO', 'AAPL']},\n",
       " {'uuid': '25eada7b-fd6a-384c-b10f-ea3b983c064c',\n",
       "  'title': \"Apple approves Epic Games' marketplace app after initial rejections\",\n",
       "  'publisher': 'TechCrunch',\n",
       "  'link': 'https://finance.yahoo.com/m/25eada7b-fd6a-384c-b10f-ea3b983c064c/apple-approves-epic-games%27.html',\n",
       "  'providerPublishTime': 1720215000,\n",
       "  'type': 'STORY',\n",
       "  'relatedTickers': ['AAPL']},\n",
       " {'uuid': '899d8b64-d097-38f9-8c53-f937b9063171',\n",
       "  'title': 'OLED Display Leader Has Positive Catalysts Ahead',\n",
       "  'publisher': \"Investor's Business Daily\",\n",
       "  'link': 'https://finance.yahoo.com/m/899d8b64-d097-38f9-8c53-f937b9063171/oled-display-leader-has.html',\n",
       "  'providerPublishTime': 1720210124,\n",
       "  'type': 'STORY',\n",
       "  'thumbnail': {'resolutions': [{'url': 'https://s.yimg.com/uu/api/res/1.2/KIHEfiYVaq7ZUhe8sOnc4A--~B/aD01MTE7dz0xMDAwO2FwcGlkPXl0YWNoeW9u/https://media.zenfs.com/en/ibd.com/65e27dd33753047b1c9ab6bc833c1cdb',\n",
       "     'width': 1000,\n",
       "     'height': 511,\n",
       "     'tag': 'original'},\n",
       "    {'url': 'https://s.yimg.com/uu/api/res/1.2/e_I8THPJMO56bryQ_eiMEQ--~B/Zmk9ZmlsbDtoPTE0MDtweW9mZj0wO3c9MTQwO2FwcGlkPXl0YWNoeW9u/https://media.zenfs.com/en/ibd.com/65e27dd33753047b1c9ab6bc833c1cdb',\n",
       "     'width': 140,\n",
       "     'height': 140,\n",
       "     'tag': '140x140'}]},\n",
       "  'relatedTickers': ['OLED', 'GOOG', 'AAPL']},\n",
       " {'uuid': 'c82f20fa-fadc-3247-9f69-075d7fdd515b',\n",
       "  'title': 'These 3 Companies Generate Significant Cash',\n",
       "  'publisher': 'Zacks',\n",
       "  'link': 'https://finance.yahoo.com/news/3-companies-generate-significant-cash-200500887.html',\n",
       "  'providerPublishTime': 1720209900,\n",
       "  'type': 'STORY',\n",
       "  'thumbnail': {'resolutions': [{'url': 'https://s.yimg.com/uu/api/res/1.2/XO4um2DY00idLB04MvOfDQ--~B/aD00MTM7dz02MjA7YXBwaWQ9eXRhY2h5b24-/https://media.zenfs.com/en/zacks.com/70b9015a7dfa22a9c1e2bf15688e53fd',\n",
       "     'width': 620,\n",
       "     'height': 413,\n",
       "     'tag': 'original'},\n",
       "    {'url': 'https://s.yimg.com/uu/api/res/1.2/rP_Ku0hzIbDPwoTv4dc4Jg--~B/Zmk9ZmlsbDtoPTE0MDtweW9mZj0wO3c9MTQwO2FwcGlkPXl0YWNoeW9u/https://media.zenfs.com/en/zacks.com/70b9015a7dfa22a9c1e2bf15688e53fd',\n",
       "     'width': 140,\n",
       "     'height': 140,\n",
       "     'tag': '140x140'}]},\n",
       "  'relatedTickers': ['AAPL', 'GOOG', 'MSFT']},\n",
       " {'uuid': '81e14889-b287-3520-8886-41967b26740b',\n",
       "  'title': 'Sector Update: Tech Stocks Higher Late Afternoon',\n",
       "  'publisher': 'MT Newswires',\n",
       "  'link': 'https://finance.yahoo.com/news/sector-tech-stocks-higher-afternoon-195606835.html',\n",
       "  'providerPublishTime': 1720209366,\n",
       "  'type': 'STORY',\n",
       "  'relatedTickers': ['NVDA', 'AAPL']},\n",
       " {'uuid': '4205eaa9-f620-3a0b-a81a-0e82c7c9fd0b',\n",
       "  'title': 'Magnificent Seven Stocks: Nvidia Stock Slides; Meta Retakes Buy Point; Apple, Google Hit New Highs',\n",
       "  'publisher': \"Investor's Business Daily\",\n",
       "  'link': 'https://finance.yahoo.com/m/4205eaa9-f620-3a0b-a81a-0e82c7c9fd0b/magnificent-seven-stocks%3A.html',\n",
       "  'providerPublishTime': 1720208922,\n",
       "  'type': 'STORY',\n",
       "  'thumbnail': {'resolutions': [{'url': 'https://s.yimg.com/uu/api/res/1.2/kV2Fc5Kz3y8hNbXlVxHRQg--~B/aD01NjU7dz0xMDAwO2FwcGlkPXl0YWNoeW9u/https://media.zenfs.com/en/ibd.com/d5bee44b5deef90ccff5d488feb6722d',\n",
       "     'width': 1000,\n",
       "     'height': 565,\n",
       "     'tag': 'original'},\n",
       "    {'url': 'https://s.yimg.com/uu/api/res/1.2/My3O.I831YydYsn.iMoUvw--~B/Zmk9ZmlsbDtoPTE0MDtweW9mZj0wO3c9MTQwO2FwcGlkPXl0YWNoeW9u/https://media.zenfs.com/en/ibd.com/d5bee44b5deef90ccff5d488feb6722d',\n",
       "     'width': 140,\n",
       "     'height': 140,\n",
       "     'tag': '140x140'}]},\n",
       "  'relatedTickers': ['NVDA', 'AAPL', 'TSLA', 'META', 'MSFT']}]"
      ]
     },
     "execution_count": 3,
     "metadata": {},
     "output_type": "execute_result"
    }
   ],
   "source": [
    "data"
   ]
  },
  {
   "cell_type": "code",
   "execution_count": 4,
   "metadata": {},
   "outputs": [
    {
     "name": "stdout",
     "output_type": "stream",
     "text": [
      "{'title': 'Nancy Pelosi Loads Up on Nvidia (NASDAQ:NVDA) and AVGO Shares - TipRanks.com - TipRanks', 'description': 'Nancy Pelosi Loads Up on Nvidia (NASDAQ:NVDA) and AVGO Shares - TipRanks.com  TipRanks', 'published date': 'Thu, 04 Jul 2024 16:17:10 GMT', 'url': 'https://news.google.com/rss/articles/CBMiWGh0dHBzOi8vd3d3LnRpcHJhbmtzLmNvbS9uZXdzL25hbmN5LXBlbG9zaS1sb2Fkcy11cC1vbi1udmlkaWEtbmFzZGFxbnZkYS1hbmQtYXZnby1zaGFyZXPSAQA?oc=5&hl=en-US&gl=US&ceid=US:en', 'publisher': {'href': 'https://www.tipranks.com', 'title': 'TipRanks'}}\n"
     ]
    }
   ],
   "source": [
    "from gnews import GNews\n",
    "\n",
    "google_news = GNews()\n",
    "pakistan_news = google_news.get_news('NVDA')\n",
    "print(pakistan_news[0])"
   ]
  },
  {
   "cell_type": "code",
   "execution_count": 5,
   "metadata": {},
   "outputs": [
    {
     "data": {
      "text/plain": [
       "{'title': 'Nvidia shares rise to start July. Top analyst calls on chipmaker NVDA - CNBC',\n",
       " 'description': \"Nvidia shares rise to start July. Top analyst calls on chipmaker NVDA  CNBCHere are the Reasons Why You Should Hold NVIDIA Corporation (NVDA) for the Long Term  Yahoo FinanceHere's How Nvidia (NASDAQ:NVDA) Can Keep Its Edge against Competitors - TipRanks.com  TipRanks\",\n",
       " 'published date': 'Thu, 04 Jul 2024 23:17:56 GMT',\n",
       " 'url': 'https://news.google.com/rss/articles/CBMiaWh0dHBzOi8vd3d3LmNuYmMuY29tLzIwMjQvMDcvMDUvbnZpZGlhLXNoYXJlcy1yaXNlLXRvLXN0YXJ0LWp1bHktdG9wLWFuYWx5c3QtY2FsbHMtb24tY2hpcG1ha2VyLW52ZGEuaHRtbNIBAA?oc=5&hl=en-US&gl=US&ceid=US:en',\n",
       " 'publisher': {'href': 'https://www.cnbc.com', 'title': 'CNBC'}}"
      ]
     },
     "execution_count": 5,
     "metadata": {},
     "output_type": "execute_result"
    }
   ],
   "source": [
    "pakistan_news[2]"
   ]
  },
  {
   "cell_type": "code",
   "execution_count": 6,
   "metadata": {},
   "outputs": [],
   "source": [
    "from gnews import GNews\n",
    "\n",
    "google_news = GNews(period='2h',max_results=5,exclude_websites=['www.marketwatch.com','www.portsmouth-dailytimes.com'])  # Set timeframe during initialization\n",
    "json_resp = google_news.get_news('AAPL') \n"
   ]
  },
  {
   "cell_type": "code",
   "execution_count": 7,
   "metadata": {},
   "outputs": [
    {
     "data": {
      "text/plain": [
       "2"
      ]
     },
     "execution_count": 7,
     "metadata": {},
     "output_type": "execute_result"
    }
   ],
   "source": [
    "len(json_resp)"
   ]
  },
  {
   "cell_type": "code",
   "execution_count": 8,
   "metadata": {},
   "outputs": [
    {
     "data": {
      "text/plain": [
       "{'title': 'Apple (NASDAQ:AAPL) Stock Price Up 0.6% - Defense World',\n",
       " 'description': 'Apple (NASDAQ:AAPL) Stock Price Up 0.6%  Defense World',\n",
       " 'published date': 'Sat, 06 Jul 2024 11:11:31 GMT',\n",
       " 'url': 'https://news.google.com/rss/articles/CBMiUGh0dHBzOi8vd3d3LmRlZmVuc2V3b3JsZC5uZXQvMjAyNC8wNy8wNi9hcHBsZS1uYXNkYXFhYXBsLXN0b2NrLXByaWNlLXVwLTAtNi5odG1s0gEA?oc=5&hl=en-US&gl=US&ceid=US:en',\n",
       " 'publisher': {'href': 'https://www.defenseworld.net',\n",
       "  'title': 'Defense World'}}"
      ]
     },
     "execution_count": 8,
     "metadata": {},
     "output_type": "execute_result"
    }
   ],
   "source": [
    "json_resp[0]"
   ]
  },
  {
   "cell_type": "code",
   "execution_count": 9,
   "metadata": {},
   "outputs": [
    {
     "data": {
      "text/plain": [
       "\"Shares of Apple Inc. (NASDAQ:AAPL – Get Free Report) shot up 0.6% during trading on Thursday . The company traded as high as $221.55 and last traded at $221.55. 37,369,801 shares were traded during mid-day trading, a decline of 57% from the average session volume of 87,244,072 shares. The stock had previously closed at $220.27.\\n\\nGet Apple alerts:\\n\\nAnalyst Ratings Changes\\n\\nA number of equities research analysts have issued reports on AAPL shares. Canaccord Genuity Group raised their target price on Apple from $200.00 to $215.00 and gave the company a “buy” rating in a research note on Saturday, May 4th. Monness Crespi & Hardt reaffirmed a “buy” rating and set a $205.00 price target on shares of Apple in a report on Thursday, June 6th. Sanford C. Bernstein increased their price objective on Apple from $195.00 to $240.00 and gave the stock an “outperform” rating in a report on Friday, June 21st. Loop Capital cut their target price on Apple from $185.00 to $170.00 and set a “hold” rating on the stock in a research note on Monday, April 1st. Finally, Wedbush boosted their price target on Apple from $250.00 to $275.00 and gave the stock an “outperform” rating in a research report on Friday, May 24th. One analyst has rated the stock with a sell rating, eleven have given a hold rating, twenty-four have given a buy rating and one has issued a strong buy rating to the stock. According to data from MarketBeat, the company currently has an average rating of “Moderate Buy” and a consensus target price of $215.71.\\n\\nCheck Out Our Latest Report on Apple\\n\\nApple Price Performance\\n\\nThe company has a quick ratio of 0.99, a current ratio of 1.04 and a debt-to-equity ratio of 1.24. The stock’s 50-day moving average is $197.44 and its 200-day moving average is $186.31. The firm has a market cap of $3.47 trillion, a P/E ratio of 35.20, a price-to-earnings-growth ratio of 2.69 and a beta of 1.24.\\n\\nApple (NASDAQ:AAPL – Get Free Report) last announced its quarterly earnings data on Thursday, May 2nd. The iPhone maker reported $1.53 EPS for the quarter, beating analysts’ consensus estimates of $1.51 by $0.02. Apple had a net margin of 26.31% and a return on equity of 148.33%. The business had revenue of $90.75 billion during the quarter, compared to analyst estimates of $90.37 billion. During the same quarter in the prior year, the business earned $1.52 earnings per share. The firm’s revenue for the quarter was down 4.3% on a year-over-year basis. As a group, equities analysts anticipate that Apple Inc. will post 6.59 EPS for the current fiscal year.\\n\\nApple Increases Dividend\\n\\nThe company also recently disclosed a quarterly dividend, which was paid on Thursday, May 16th. Stockholders of record on Monday, May 13th were issued a dividend of $0.25 per share. This represents a $1.00 annualized dividend and a dividend yield of 0.44%. The ex-dividend date of this dividend was Friday, May 10th. This is a positive change from Apple’s previous quarterly dividend of $0.24. Apple’s dividend payout ratio (DPR) is presently 15.55%.\\n\\nApple declared that its Board of Directors has approved a share repurchase plan on Thursday, May 2nd that permits the company to repurchase $110.00 billion in shares. This repurchase authorization permits the iPhone maker to purchase up to 3.9% of its stock through open market purchases. Stock repurchase plans are usually a sign that the company’s management believes its stock is undervalued.\\n\\nInsider Buying and Selling\\n\\nIn other Apple news, COO Jeffrey E. Williams sold 59,162 shares of the business’s stock in a transaction on Thursday, April 11th. The shares were sold at an average price of $172.22, for a total value of $10,188,879.64. Following the sale, the chief operating officer now owns 489,944 shares of the company’s stock, valued at approximately $84,378,155.68. The sale was disclosed in a legal filing with the Securities & Exchange Commission, which is available at this link. In other Apple news, COO Jeffrey E. Williams sold 59,162 shares of the firm’s stock in a transaction dated Thursday, April 11th. The shares were sold at an average price of $172.22, for a total transaction of $10,188,879.64. Following the completion of the transaction, the chief operating officer now owns 489,944 shares in the company, valued at $84,378,155.68. The sale was disclosed in a filing with the SEC, which can be accessed through the SEC website. Also, CFO Luca Maestri sold 53,194 shares of the company’s stock in a transaction that occurred on Thursday, April 11th. The shares were sold at an average price of $174.12, for a total value of $9,262,139.28. Following the completion of the sale, the chief financial officer now owns 107,788 shares in the company, valued at $18,768,046.56. The disclosure for this sale can be found here. Insiders sold a total of 192,355 shares of company stock valued at $34,771,329 over the last ninety days. 0.06% of the stock is owned by company insiders.\\n\\nInstitutional Investors Weigh In On Apple\\n\\nSeveral large investors have recently made changes to their positions in the company. Rempart Asset Management Inc. grew its stake in Apple by 4.8% during the second quarter. Rempart Asset Management Inc. now owns 11,507 shares of the iPhone maker’s stock worth $2,424,000 after buying an additional 527 shares during the last quarter. Collective Family Office LLC grew its position in Apple by 11.6% during the 2nd quarter. Collective Family Office LLC now owns 16,387 shares of the iPhone maker’s stock worth $3,452,000 after acquiring an additional 1,700 shares during the last quarter. Stokes Family Office LLC increased its holdings in Apple by 2.9% during the 2nd quarter. Stokes Family Office LLC now owns 256,795 shares of the iPhone maker’s stock valued at $54,086,000 after purchasing an additional 7,260 shares in the last quarter. Institutional & Family Asset Management LLC raised its position in Apple by 1.4% in the 2nd quarter. Institutional & Family Asset Management LLC now owns 50,422 shares of the iPhone maker’s stock valued at $10,620,000 after purchasing an additional 687 shares during the last quarter. Finally, Kozak & Associates Inc. boosted its stake in Apple by 5.2% in the second quarter. Kozak & Associates Inc. now owns 104,949 shares of the iPhone maker’s stock worth $23,251,000 after purchasing an additional 5,172 shares in the last quarter. Institutional investors own 60.41% of the company’s stock.\\n\\nAbout Apple\\n\\n(Get Free Report)\\n\\nApple Inc designs, manufactures, and markets smartphones, personal computers, tablets, wearables, and accessories worldwide. The company offers iPhone, a line of smartphones; Mac, a line of personal computers; iPad, a line of multi-purpose tablets; and wearables, home, and accessories comprising AirPods, Apple TV, Apple Watch, Beats products, and HomePod.\\n\\nSee Also\\n\\nReceive News & Ratings for Apple Daily - Enter your email address below to receive a concise daily summary of the latest news and analysts' ratings for Apple and related companies with MarketBeat.com's FREE daily email newsletter.\""
      ]
     },
     "execution_count": 9,
     "metadata": {},
     "output_type": "execute_result"
    }
   ],
   "source": [
    "article = google_news.get_full_article(\n",
    "    json_resp[0]['url'])\n",
    "article.text"
   ]
  },
  {
   "cell_type": "code",
   "execution_count": 10,
   "metadata": {},
   "outputs": [
    {
     "name": "stderr",
     "output_type": "stream",
     "text": [
      "Some weights of PegasusForConditionalGeneration were not initialized from the model checkpoint at google/pegasus-multi_news and are newly initialized: ['model.decoder.embed_positions.weight', 'model.encoder.embed_positions.weight']\n",
      "You should probably TRAIN this model on a down-stream task to be able to use it for predictions and inference.\n"
     ]
    },
    {
     "name": "stdout",
     "output_type": "stream",
     "text": [
      "Original Article:\n",
      "\n",
      "A recent study published in Nature suggests that climate change is having a significant impact on global weather patterns. The study found that rising temperatures are leading to more extreme weather events, such as heatwaves, droughts, and floods. These events are causing widespread disruption and damage, and are expected to become more common in the future.\n",
      "\n",
      "\n",
      "Summary:\n",
      "– A new study published in Nature finds that climate change is causing more extreme weather events, such as floods, droughts, and heatwaves—and those events are expected to become more common in the future, the Los Angeles Times reports. According\n"
     ]
    }
   ],
   "source": [
    "from transformers import PegasusForConditionalGeneration, PegasusTokenizer\n",
    "\n",
    "# Load the model and tokenizer\n",
    "model_name = \"google/pegasus-multi_news\"  # Choose \"mixed & stochastic\" version\n",
    "tokenizer = PegasusTokenizer.from_pretrained(model_name)\n",
    "model = PegasusForConditionalGeneration.from_pretrained(model_name)\n",
    "\n",
    "# Define your news article text\n",
    "news_article = \"\"\"\n",
    "A recent study published in Nature suggests that climate change is having a significant impact on global weather patterns. The study found that rising temperatures are leading to more extreme weather events, such as heatwaves, droughts, and floods. These events are causing widespread disruption and damage, and are expected to become more common in the future.\n",
    "\"\"\"\n",
    "\n",
    "# Encode the article for the model\n",
    "inputs = tokenizer(news_article, return_tensors=\"pt\")\n",
    "\n",
    "# Generate the summary with maximum length of 50 tokens\n",
    "summary_ids = model.generate(input_ids=inputs[\"input_ids\"], max_length=50)\n",
    "\n",
    "# Decode the summary tokens back to text\n",
    "summary = tokenizer.batch_decode(summary_ids, skip_special_tokens=True)[0]\n",
    "\n",
    "# Print the original article and the summarized text\n",
    "print(\"Original Article:\")\n",
    "print(news_article)\n",
    "\n",
    "print(\"\\nSummary:\")\n",
    "print(summary)\n",
    "\n"
   ]
  },
  {
   "cell_type": "code",
   "execution_count": 11,
   "metadata": {},
   "outputs": [],
   "source": [
    "news_article =google_news.get_full_article(\n",
    "    json_resp[0]['url']).text"
   ]
  },
  {
   "cell_type": "code",
   "execution_count": 12,
   "metadata": {},
   "outputs": [
    {
     "data": {
      "text/plain": [
       "\"Shares of Apple Inc. (NASDAQ:AAPL – Get Free Report) shot up 0.6% during trading on Thursday . The company traded as high as $221.55 and last traded at $221.55. 37,369,801 shares were traded during mid-day trading, a decline of 57% from the average session volume of 87,244,072 shares. The stock had previously closed at $220.27.\\n\\nGet Apple alerts:\\n\\nAnalyst Ratings Changes\\n\\nA number of equities research analysts have issued reports on AAPL shares. Canaccord Genuity Group raised their target price on Apple from $200.00 to $215.00 and gave the company a “buy” rating in a research note on Saturday, May 4th. Monness Crespi & Hardt reaffirmed a “buy” rating and set a $205.00 price target on shares of Apple in a report on Thursday, June 6th. Sanford C. Bernstein increased their price objective on Apple from $195.00 to $240.00 and gave the stock an “outperform” rating in a report on Friday, June 21st. Loop Capital cut their target price on Apple from $185.00 to $170.00 and set a “hold” rating on the stock in a research note on Monday, April 1st. Finally, Wedbush boosted their price target on Apple from $250.00 to $275.00 and gave the stock an “outperform” rating in a research report on Friday, May 24th. One analyst has rated the stock with a sell rating, eleven have given a hold rating, twenty-four have given a buy rating and one has issued a strong buy rating to the stock. According to data from MarketBeat, the company currently has an average rating of “Moderate Buy” and a consensus target price of $215.71.\\n\\nCheck Out Our Latest Report on Apple\\n\\nApple Price Performance\\n\\nThe company has a quick ratio of 0.99, a current ratio of 1.04 and a debt-to-equity ratio of 1.24. The stock’s 50-day moving average is $197.44 and its 200-day moving average is $186.31. The firm has a market cap of $3.47 trillion, a P/E ratio of 35.20, a price-to-earnings-growth ratio of 2.69 and a beta of 1.24.\\n\\nApple (NASDAQ:AAPL – Get Free Report) last announced its quarterly earnings data on Thursday, May 2nd. The iPhone maker reported $1.53 EPS for the quarter, beating analysts’ consensus estimates of $1.51 by $0.02. Apple had a net margin of 26.31% and a return on equity of 148.33%. The business had revenue of $90.75 billion during the quarter, compared to analyst estimates of $90.37 billion. During the same quarter in the prior year, the business earned $1.52 earnings per share. The firm’s revenue for the quarter was down 4.3% on a year-over-year basis. As a group, equities analysts anticipate that Apple Inc. will post 6.59 EPS for the current fiscal year.\\n\\nApple Increases Dividend\\n\\nThe company also recently disclosed a quarterly dividend, which was paid on Thursday, May 16th. Stockholders of record on Monday, May 13th were issued a dividend of $0.25 per share. This represents a $1.00 annualized dividend and a dividend yield of 0.44%. The ex-dividend date of this dividend was Friday, May 10th. This is a positive change from Apple’s previous quarterly dividend of $0.24. Apple’s dividend payout ratio (DPR) is presently 15.55%.\\n\\nApple declared that its Board of Directors has approved a share repurchase plan on Thursday, May 2nd that permits the company to repurchase $110.00 billion in shares. This repurchase authorization permits the iPhone maker to purchase up to 3.9% of its stock through open market purchases. Stock repurchase plans are usually a sign that the company’s management believes its stock is undervalued.\\n\\nInsider Buying and Selling\\n\\nIn other Apple news, COO Jeffrey E. Williams sold 59,162 shares of the business’s stock in a transaction on Thursday, April 11th. The shares were sold at an average price of $172.22, for a total value of $10,188,879.64. Following the sale, the chief operating officer now owns 489,944 shares of the company’s stock, valued at approximately $84,378,155.68. The sale was disclosed in a legal filing with the Securities & Exchange Commission, which is available at this link. In other Apple news, COO Jeffrey E. Williams sold 59,162 shares of the firm’s stock in a transaction dated Thursday, April 11th. The shares were sold at an average price of $172.22, for a total transaction of $10,188,879.64. Following the completion of the transaction, the chief operating officer now owns 489,944 shares in the company, valued at $84,378,155.68. The sale was disclosed in a filing with the SEC, which can be accessed through the SEC website. Also, CFO Luca Maestri sold 53,194 shares of the company’s stock in a transaction that occurred on Thursday, April 11th. The shares were sold at an average price of $174.12, for a total value of $9,262,139.28. Following the completion of the sale, the chief financial officer now owns 107,788 shares in the company, valued at $18,768,046.56. The disclosure for this sale can be found here. Insiders sold a total of 192,355 shares of company stock valued at $34,771,329 over the last ninety days. 0.06% of the stock is owned by company insiders.\\n\\nInstitutional Investors Weigh In On Apple\\n\\nSeveral large investors have recently made changes to their positions in the company. Rempart Asset Management Inc. grew its stake in Apple by 4.8% during the second quarter. Rempart Asset Management Inc. now owns 11,507 shares of the iPhone maker’s stock worth $2,424,000 after buying an additional 527 shares during the last quarter. Collective Family Office LLC grew its position in Apple by 11.6% during the 2nd quarter. Collective Family Office LLC now owns 16,387 shares of the iPhone maker’s stock worth $3,452,000 after acquiring an additional 1,700 shares during the last quarter. Stokes Family Office LLC increased its holdings in Apple by 2.9% during the 2nd quarter. Stokes Family Office LLC now owns 256,795 shares of the iPhone maker’s stock valued at $54,086,000 after purchasing an additional 7,260 shares in the last quarter. Institutional & Family Asset Management LLC raised its position in Apple by 1.4% in the 2nd quarter. Institutional & Family Asset Management LLC now owns 50,422 shares of the iPhone maker’s stock valued at $10,620,000 after purchasing an additional 687 shares during the last quarter. Finally, Kozak & Associates Inc. boosted its stake in Apple by 5.2% in the second quarter. Kozak & Associates Inc. now owns 104,949 shares of the iPhone maker’s stock worth $23,251,000 after purchasing an additional 5,172 shares in the last quarter. Institutional investors own 60.41% of the company’s stock.\\n\\nAbout Apple\\n\\n(Get Free Report)\\n\\nApple Inc designs, manufactures, and markets smartphones, personal computers, tablets, wearables, and accessories worldwide. The company offers iPhone, a line of smartphones; Mac, a line of personal computers; iPad, a line of multi-purpose tablets; and wearables, home, and accessories comprising AirPods, Apple TV, Apple Watch, Beats products, and HomePod.\\n\\nSee Also\\n\\nReceive News & Ratings for Apple Daily - Enter your email address below to receive a concise daily summary of the latest news and analysts' ratings for Apple and related companies with MarketBeat.com's FREE daily email newsletter.\""
      ]
     },
     "execution_count": 12,
     "metadata": {},
     "output_type": "execute_result"
    }
   ],
   "source": [
    "news_article"
   ]
  },
  {
   "cell_type": "code",
   "execution_count": 14,
   "metadata": {},
   "outputs": [
    {
     "data": {
      "application/vnd.jupyter.widget-view+json": {
       "model_id": "a44b579cd3e14692b91b49bb573dcc3d",
       "version_major": 2,
       "version_minor": 0
      },
      "text/plain": [
       "tokenizer_config.json:   0%|          | 0.00/88.0 [00:00<?, ?B/s]"
      ]
     },
     "metadata": {},
     "output_type": "display_data"
    },
    {
     "data": {
      "application/vnd.jupyter.widget-view+json": {
       "model_id": "b0fccf766bc7470692ea5149c2b22e21",
       "version_major": 2,
       "version_minor": 0
      },
      "text/plain": [
       "spiece.model:   0%|          | 0.00/1.91M [00:00<?, ?B/s]"
      ]
     },
     "metadata": {},
     "output_type": "display_data"
    },
    {
     "data": {
      "application/vnd.jupyter.widget-view+json": {
       "model_id": "1ccb1ecff5754081aa5ece049f73984e",
       "version_major": 2,
       "version_minor": 0
      },
      "text/plain": [
       "special_tokens_map.json:   0%|          | 0.00/65.0 [00:00<?, ?B/s]"
      ]
     },
     "metadata": {},
     "output_type": "display_data"
    },
    {
     "data": {
      "application/vnd.jupyter.widget-view+json": {
       "model_id": "1dd421d305ba41fdba2c0eb30399c193",
       "version_major": 2,
       "version_minor": 0
      },
      "text/plain": [
       "config.json:   0%|          | 0.00/3.09k [00:00<?, ?B/s]"
      ]
     },
     "metadata": {},
     "output_type": "display_data"
    },
    {
     "data": {
      "application/vnd.jupyter.widget-view+json": {
       "model_id": "55aba479cadd46adb6b9bd0483debec5",
       "version_major": 2,
       "version_minor": 0
      },
      "text/plain": [
       "pytorch_model.bin:   0%|          | 0.00/2.28G [00:00<?, ?B/s]"
      ]
     },
     "metadata": {},
     "output_type": "display_data"
    },
    {
     "name": "stderr",
     "output_type": "stream",
     "text": [
      "Some weights of PegasusForConditionalGeneration were not initialized from the model checkpoint at google/pegasus-large and are newly initialized: ['model.decoder.embed_positions.weight', 'model.encoder.embed_positions.weight']\n",
      "You should probably TRAIN this model on a down-stream task to be able to use it for predictions and inference.\n"
     ]
    },
    {
     "data": {
      "application/vnd.jupyter.widget-view+json": {
       "model_id": "1eb167fe2faf4f17ac6f0a883126ea54",
       "version_major": 2,
       "version_minor": 0
      },
      "text/plain": [
       "generation_config.json:   0%|          | 0.00/260 [00:00<?, ?B/s]"
      ]
     },
     "metadata": {},
     "output_type": "display_data"
    },
    {
     "name": "stdout",
     "output_type": "stream",
     "text": [
      "Canaccord Genuity Group raised their target price on Apple from $200.00 to $215.00 and gave the company a “buy” rating in a research note on Saturday, May 4th. Bernstein increased their price objective on Apple from $195.00 to $24\n"
     ]
    }
   ],
   "source": [
    "from transformers import PegasusTokenizer, PegasusForConditionalGeneration\n",
    "\n",
    "# Load the tokenizer and model\n",
    "tokenizer = PegasusTokenizer.from_pretrained('google/pegasus-large')\n",
    "model = PegasusForConditionalGeneration.from_pretrained('google/pegasus-large')\n",
    "\n",
    "# Encode the input text, truncate if necessary\n",
    "inputs = tokenizer(news_article, return_tensors=\"pt\", max_length=1024, truncation=True)\n",
    "\n",
    "# Generate the summary with a maximum length of 50 tokens\n",
    "summary_ids = model.generate(input_ids=inputs[\"input_ids\"], max_length=50)\n",
    "\n",
    "# Decode the summary tokens back to text\n",
    "summary = tokenizer.decode(summary_ids[0], skip_special_tokens=True)\n",
    "print(summary)\n"
   ]
  },
  {
   "cell_type": "code",
   "execution_count": 21,
   "metadata": {},
   "outputs": [
    {
     "name": "stdout",
     "output_type": "stream",
     "text": [
      "Canaccord Genuity Group raised their target price on Apple from $200.00 to $215.00 and gave the company a “buy” rating in a research note on Saturday, May 4th. Monness Crespi & Hardt reaffirmed a “buy” rating and set a $205.00 price target on shares of Apple in a report on Thursday, June 6th. Bernstein increased their price objective on Apple from $195.00 to $240.00 and gave the stock an “outperform” rating in a report on Friday, June 21st. Loop Capital cut their target price on Apple from $185.00 to $170.00 and set a “hold” rating on the stock in a research note on Monday, April 1st. Finally, Wedbush boosted their price target on Apple from $250.00 to $275.00 and gave the stock an “outperform” rating in a research report on Friday, May 24th. Check Out Our Latest Report on Apple Price Performance The company has a quick ratio of 0.99, a current ratio of 1.04 and a debt-to-equity ratio of 1.24.\n"
     ]
    }
   ],
   "source": [
    "news_article\n",
    "inputs = tokenizer(news_article, return_tensors=\"pt\", max_length=1024, truncation=True)\n",
    "\n",
    "# Generate the summary with a maximum length of 50 tokens\n",
    "summary_ids = model.generate(input_ids=inputs[\"input_ids\"], max_length=256)\n",
    "\n",
    "# Decode the summary tokens back to text\n",
    "summary = tokenizer.decode(summary_ids[0], skip_special_tokens=True)\n",
    "print(summary)"
   ]
  },
  {
   "cell_type": "code",
   "execution_count": 18,
   "metadata": {},
   "outputs": [
    {
     "name": "stdout",
     "output_type": "stream",
     "text": [
      "Shares of Apple Inc. (NASDAQ:AAPL – Get Free Report) shot up 0.6% during trading on Thursday . The company traded as high as $221.55 and last traded at $221.55. 37,369,801 shares were traded during mid-day trading, a decline of 57% from the average session volume of 87,244,072 shares. The stock had previously closed at $220.27.\n",
      "\n",
      "Get Apple alerts:\n",
      "\n",
      "Analyst Ratings Changes\n",
      "\n",
      "A number of equities research analysts have issued reports on AAPL shares. Canaccord Genuity Group raised their target price on Apple from $200.00 to $215.00 and gave the company a “buy” rating in a research note on Saturday, May 4th. Monness Crespi & Hardt reaffirmed a “buy” rating and set a $205.00 price target on shares of Apple in a report on Thursday, June 6th. Sanford C. Bernstein increased their price objective on Apple from $195.00 to $240.00 and gave the stock an “outperform” rating in a report on Friday, June 21st. Loop Capital cut their target price on Apple from $185.00 to $170.00 and set a “hold” rating on the stock in a research note on Monday, April 1st. Finally, Wedbush boosted their price target on Apple from $250.00 to $275.00 and gave the stock an “outperform” rating in a research report on Friday, May 24th. One analyst has rated the stock with a sell rating, eleven have given a hold rating, twenty-four have given a buy rating and one has issued a strong buy rating to the stock. According to data from MarketBeat, the company currently has an average rating of “Moderate Buy” and a consensus target price of $215.71.\n",
      "\n",
      "Check Out Our Latest Report on Apple\n",
      "\n",
      "Apple Price Performance\n",
      "\n",
      "The company has a quick ratio of 0.99, a current ratio of 1.04 and a debt-to-equity ratio of 1.24. The stock’s 50-day moving average is $197.44 and its 200-day moving average is $186.31. The firm has a market cap of $3.47 trillion, a P/E ratio of 35.20, a price-to-earnings-growth ratio of 2.69 and a beta of 1.24.\n",
      "\n",
      "Apple (NASDAQ:AAPL – Get Free Report) last announced its quarterly earnings data on Thursday, May 2nd. The iPhone maker reported $1.53 EPS for the quarter, beating analysts’ consensus estimates of $1.51 by $0.02. Apple had a net margin of 26.31% and a return on equity of 148.33%. The business had revenue of $90.75 billion during the quarter, compared to analyst estimates of $90.37 billion. During the same quarter in the prior year, the business earned $1.52 earnings per share. The firm’s revenue for the quarter was down 4.3% on a year-over-year basis. As a group, equities analysts anticipate that Apple Inc. will post 6.59 EPS for the current fiscal year.\n",
      "\n",
      "Apple Increases Dividend\n",
      "\n",
      "The company also recently disclosed a quarterly dividend, which was paid on Thursday, May 16th. Stockholders of record on Monday, May 13th were issued a dividend of $0.25 per share. This represents a $1.00 annualized dividend and a dividend yield of 0.44%. The ex-dividend date of this dividend was Friday, May 10th. This is a positive change from Apple’s previous quarterly dividend of $0.24. Apple’s dividend payout ratio (DPR) is presently 15.55%.\n",
      "\n",
      "Apple declared that its Board of Directors has approved a share repurchase plan on Thursday, May 2nd that permits the company to repurchase $110.00 billion in shares. This repurchase authorization permits the iPhone maker to purchase up to 3.9% of its stock through open market purchases. Stock repurchase plans are usually a sign that the company’s management believes its stock is undervalued.\n",
      "\n",
      "Insider Buying and Selling\n",
      "\n",
      "In other Apple news, COO Jeffrey E. Williams sold 59,162 shares of the business’s stock in a transaction on Thursday, April 11th. The shares were sold at an average price of $172.22, for a total value of $10,188,879.64. Following the sale, the chief operating officer now owns 489,944 shares of the company’s stock, valued at approximately $84,378,155.68. The sale was disclosed in a legal filing with the Securities & Exchange Commission, which is available at this link. In other Apple news, COO Jeffrey E. Williams sold 59,162 shares of the firm’s stock in a transaction dated Thursday, April 11th. The shares were sold at an average price of $172.22, for a total transaction of $10,188,879.64. Following the completion of the transaction, the chief operating officer now owns 489,944 shares in the company, valued at $84,378,155.68. The sale was disclosed in a filing with the SEC, which can be accessed through the SEC website. Also, CFO Luca Maestri sold 53,194 shares of the company’s stock in a transaction that occurred on Thursday, April 11th. The shares were sold at an average price of $174.12, for a total value of $9,262,139.28. Following the completion of the sale, the chief financial officer now owns 107,788 shares in the company, valued at $18,768,046.56. The disclosure for this sale can be found here. Insiders sold a total of 192,355 shares of company stock valued at $34,771,329 over the last ninety days. 0.06% of the stock is owned by company insiders.\n",
      "\n",
      "Institutional Investors Weigh In On Apple\n",
      "\n",
      "Several large investors have recently made changes to their positions in the company. Rempart Asset Management Inc. grew its stake in Apple by 4.8% during the second quarter. Rempart Asset Management Inc. now owns 11,507 shares of the iPhone maker’s stock worth $2,424,000 after buying an additional 527 shares during the last quarter. Collective Family Office LLC grew its position in Apple by 11.6% during the 2nd quarter. Collective Family Office LLC now owns 16,387 shares of the iPhone maker’s stock worth $3,452,000 after acquiring an additional 1,700 shares during the last quarter. Stokes Family Office LLC increased its holdings in Apple by 2.9% during the 2nd quarter. Stokes Family Office LLC now owns 256,795 shares of the iPhone maker’s stock valued at $54,086,000 after purchasing an additional 7,260 shares in the last quarter. Institutional & Family Asset Management LLC raised its position in Apple by 1.4% in the 2nd quarter. Institutional & Family Asset Management LLC now owns 50,422 shares of the iPhone maker’s stock valued at $10,620,000 after purchasing an additional 687 shares during the last quarter. Finally, Kozak & Associates Inc. boosted its stake in Apple by 5.2% in the second quarter. Kozak & Associates Inc. now owns 104,949 shares of the iPhone maker’s stock worth $23,251,000 after purchasing an additional 5,172 shares in the last quarter. Institutional investors own 60.41% of the company’s stock.\n",
      "\n",
      "About Apple\n",
      "\n",
      "(Get Free Report)\n",
      "\n",
      "Apple Inc designs, manufactures, and markets smartphones, personal computers, tablets, wearables, and accessories worldwide. The company offers iPhone, a line of smartphones; Mac, a line of personal computers; iPad, a line of multi-purpose tablets; and wearables, home, and accessories comprising AirPods, Apple TV, Apple Watch, Beats products, and HomePod.\n",
      "\n",
      "See Also\n",
      "\n",
      "Receive News & Ratings for Apple Daily - Enter your email address below to receive a concise daily summary of the latest news and analysts' ratings for Apple and related companies with MarketBeat.com's FREE daily email newsletter.\n"
     ]
    }
   ],
   "source": [
    "print(news_article)"
   ]
  },
  {
   "cell_type": "code",
   "execution_count": 13,
   "metadata": {},
   "outputs": [
    {
     "name": "stderr",
     "output_type": "stream",
     "text": [
      "Token indices sequence length is longer than the specified maximum sequence length for this model (1538 > 1024). Running this sequence through the model will result in indexing errors\n"
     ]
    },
    {
     "ename": "IndexError",
     "evalue": "index out of range in self",
     "output_type": "error",
     "traceback": [
      "\u001b[1;31m---------------------------------------------------------------------------\u001b[0m",
      "\u001b[1;31mIndexError\u001b[0m                                Traceback (most recent call last)",
      "Cell \u001b[1;32mIn[13], line 5\u001b[0m\n\u001b[0;32m      2\u001b[0m inputs \u001b[38;5;241m=\u001b[39m tokenizer(news_article, return_tensors\u001b[38;5;241m=\u001b[39m\u001b[38;5;124m\"\u001b[39m\u001b[38;5;124mpt\u001b[39m\u001b[38;5;124m\"\u001b[39m)\n\u001b[0;32m      4\u001b[0m \u001b[38;5;66;03m# Generate the summary with maximum length of 50 tokens\u001b[39;00m\n\u001b[1;32m----> 5\u001b[0m summary_ids \u001b[38;5;241m=\u001b[39m \u001b[43mmodel\u001b[49m\u001b[38;5;241;43m.\u001b[39;49m\u001b[43mgenerate\u001b[49m\u001b[43m(\u001b[49m\u001b[43minput_ids\u001b[49m\u001b[38;5;241;43m=\u001b[39;49m\u001b[43minputs\u001b[49m\u001b[43m[\u001b[49m\u001b[38;5;124;43m\"\u001b[39;49m\u001b[38;5;124;43minput_ids\u001b[39;49m\u001b[38;5;124;43m\"\u001b[39;49m\u001b[43m]\u001b[49m\u001b[43m,\u001b[49m\u001b[43m \u001b[49m\u001b[43mmax_length\u001b[49m\u001b[38;5;241;43m=\u001b[39;49m\u001b[38;5;241;43m1024\u001b[39;49m\u001b[43m)\u001b[49m\n\u001b[0;32m      7\u001b[0m \u001b[38;5;66;03m# Decode the summary tokens back to text\u001b[39;00m\n\u001b[0;32m      8\u001b[0m summary \u001b[38;5;241m=\u001b[39m tokenizer\u001b[38;5;241m.\u001b[39mbatch_decode(summary_ids, skip_special_tokens\u001b[38;5;241m=\u001b[39m\u001b[38;5;28;01mTrue\u001b[39;00m)[\u001b[38;5;241m0\u001b[39m]\n",
      "File \u001b[1;32mc:\\Users\\khali\\anaconda3\\envs\\trader\\lib\\site-packages\\torch\\utils\\_contextlib.py:115\u001b[0m, in \u001b[0;36mcontext_decorator.<locals>.decorate_context\u001b[1;34m(*args, **kwargs)\u001b[0m\n\u001b[0;32m    112\u001b[0m \u001b[38;5;129m@functools\u001b[39m\u001b[38;5;241m.\u001b[39mwraps(func)\n\u001b[0;32m    113\u001b[0m \u001b[38;5;28;01mdef\u001b[39;00m \u001b[38;5;21mdecorate_context\u001b[39m(\u001b[38;5;241m*\u001b[39margs, \u001b[38;5;241m*\u001b[39m\u001b[38;5;241m*\u001b[39mkwargs):\n\u001b[0;32m    114\u001b[0m     \u001b[38;5;28;01mwith\u001b[39;00m ctx_factory():\n\u001b[1;32m--> 115\u001b[0m         \u001b[38;5;28;01mreturn\u001b[39;00m func(\u001b[38;5;241m*\u001b[39margs, \u001b[38;5;241m*\u001b[39m\u001b[38;5;241m*\u001b[39mkwargs)\n",
      "File \u001b[1;32mc:\\Users\\khali\\anaconda3\\envs\\trader\\lib\\site-packages\\transformers\\generation\\utils.py:1393\u001b[0m, in \u001b[0;36mGenerationMixin.generate\u001b[1;34m(self, inputs, generation_config, logits_processor, stopping_criteria, prefix_allowed_tokens_fn, synced_gpus, assistant_model, streamer, negative_prompt_ids, negative_prompt_attention_mask, **kwargs)\u001b[0m\n\u001b[0;32m   1385\u001b[0m         logger\u001b[38;5;241m.\u001b[39mwarning(\n\u001b[0;32m   1386\u001b[0m             \u001b[38;5;124m\"\u001b[39m\u001b[38;5;124mA decoder-only architecture is being used, but right-padding was detected! For correct \u001b[39m\u001b[38;5;124m\"\u001b[39m\n\u001b[0;32m   1387\u001b[0m             \u001b[38;5;124m\"\u001b[39m\u001b[38;5;124mgeneration results, please set `padding_side=\u001b[39m\u001b[38;5;124m'\u001b[39m\u001b[38;5;124mleft\u001b[39m\u001b[38;5;124m'\u001b[39m\u001b[38;5;124m` when initializing the tokenizer.\u001b[39m\u001b[38;5;124m\"\u001b[39m\n\u001b[0;32m   1388\u001b[0m         )\n\u001b[0;32m   1390\u001b[0m \u001b[38;5;28;01mif\u001b[39;00m \u001b[38;5;28mself\u001b[39m\u001b[38;5;241m.\u001b[39mconfig\u001b[38;5;241m.\u001b[39mis_encoder_decoder \u001b[38;5;129;01mand\u001b[39;00m \u001b[38;5;124m\"\u001b[39m\u001b[38;5;124mencoder_outputs\u001b[39m\u001b[38;5;124m\"\u001b[39m \u001b[38;5;129;01mnot\u001b[39;00m \u001b[38;5;129;01min\u001b[39;00m model_kwargs:\n\u001b[0;32m   1391\u001b[0m     \u001b[38;5;66;03m# if model is encoder decoder encoder_outputs are created\u001b[39;00m\n\u001b[0;32m   1392\u001b[0m     \u001b[38;5;66;03m# and added to `model_kwargs`\u001b[39;00m\n\u001b[1;32m-> 1393\u001b[0m     model_kwargs \u001b[38;5;241m=\u001b[39m \u001b[38;5;28;43mself\u001b[39;49m\u001b[38;5;241;43m.\u001b[39;49m\u001b[43m_prepare_encoder_decoder_kwargs_for_generation\u001b[49m\u001b[43m(\u001b[49m\n\u001b[0;32m   1394\u001b[0m \u001b[43m        \u001b[49m\u001b[43minputs_tensor\u001b[49m\u001b[43m,\u001b[49m\u001b[43m \u001b[49m\u001b[43mmodel_kwargs\u001b[49m\u001b[43m,\u001b[49m\u001b[43m \u001b[49m\u001b[43mmodel_input_name\u001b[49m\n\u001b[0;32m   1395\u001b[0m \u001b[43m    \u001b[49m\u001b[43m)\u001b[49m\n\u001b[0;32m   1397\u001b[0m \u001b[38;5;66;03m# 5. Prepare `input_ids` which will be used for auto-regressive generation\u001b[39;00m\n\u001b[0;32m   1398\u001b[0m \u001b[38;5;28;01mif\u001b[39;00m \u001b[38;5;28mself\u001b[39m\u001b[38;5;241m.\u001b[39mconfig\u001b[38;5;241m.\u001b[39mis_encoder_decoder:\n",
      "File \u001b[1;32mc:\\Users\\khali\\anaconda3\\envs\\trader\\lib\\site-packages\\transformers\\generation\\utils.py:503\u001b[0m, in \u001b[0;36mGenerationMixin._prepare_encoder_decoder_kwargs_for_generation\u001b[1;34m(self, inputs_tensor, model_kwargs, model_input_name)\u001b[0m\n\u001b[0;32m    501\u001b[0m encoder_kwargs[\u001b[38;5;124m\"\u001b[39m\u001b[38;5;124mreturn_dict\u001b[39m\u001b[38;5;124m\"\u001b[39m] \u001b[38;5;241m=\u001b[39m \u001b[38;5;28;01mTrue\u001b[39;00m\n\u001b[0;32m    502\u001b[0m encoder_kwargs[model_input_name] \u001b[38;5;241m=\u001b[39m inputs_tensor\n\u001b[1;32m--> 503\u001b[0m model_kwargs[\u001b[38;5;124m\"\u001b[39m\u001b[38;5;124mencoder_outputs\u001b[39m\u001b[38;5;124m\"\u001b[39m]: ModelOutput \u001b[38;5;241m=\u001b[39m encoder(\u001b[38;5;241m*\u001b[39m\u001b[38;5;241m*\u001b[39mencoder_kwargs)\n\u001b[0;32m    505\u001b[0m \u001b[38;5;28;01mreturn\u001b[39;00m model_kwargs\n",
      "File \u001b[1;32mc:\\Users\\khali\\anaconda3\\envs\\trader\\lib\\site-packages\\torch\\nn\\modules\\module.py:1511\u001b[0m, in \u001b[0;36mModule._wrapped_call_impl\u001b[1;34m(self, *args, **kwargs)\u001b[0m\n\u001b[0;32m   1509\u001b[0m     \u001b[38;5;28;01mreturn\u001b[39;00m \u001b[38;5;28mself\u001b[39m\u001b[38;5;241m.\u001b[39m_compiled_call_impl(\u001b[38;5;241m*\u001b[39margs, \u001b[38;5;241m*\u001b[39m\u001b[38;5;241m*\u001b[39mkwargs)  \u001b[38;5;66;03m# type: ignore[misc]\u001b[39;00m\n\u001b[0;32m   1510\u001b[0m \u001b[38;5;28;01melse\u001b[39;00m:\n\u001b[1;32m-> 1511\u001b[0m     \u001b[38;5;28;01mreturn\u001b[39;00m \u001b[38;5;28mself\u001b[39m\u001b[38;5;241m.\u001b[39m_call_impl(\u001b[38;5;241m*\u001b[39margs, \u001b[38;5;241m*\u001b[39m\u001b[38;5;241m*\u001b[39mkwargs)\n",
      "File \u001b[1;32mc:\\Users\\khali\\anaconda3\\envs\\trader\\lib\\site-packages\\torch\\nn\\modules\\module.py:1520\u001b[0m, in \u001b[0;36mModule._call_impl\u001b[1;34m(self, *args, **kwargs)\u001b[0m\n\u001b[0;32m   1515\u001b[0m \u001b[38;5;66;03m# If we don't have any hooks, we want to skip the rest of the logic in\u001b[39;00m\n\u001b[0;32m   1516\u001b[0m \u001b[38;5;66;03m# this function, and just call forward.\u001b[39;00m\n\u001b[0;32m   1517\u001b[0m \u001b[38;5;28;01mif\u001b[39;00m \u001b[38;5;129;01mnot\u001b[39;00m (\u001b[38;5;28mself\u001b[39m\u001b[38;5;241m.\u001b[39m_backward_hooks \u001b[38;5;129;01mor\u001b[39;00m \u001b[38;5;28mself\u001b[39m\u001b[38;5;241m.\u001b[39m_backward_pre_hooks \u001b[38;5;129;01mor\u001b[39;00m \u001b[38;5;28mself\u001b[39m\u001b[38;5;241m.\u001b[39m_forward_hooks \u001b[38;5;129;01mor\u001b[39;00m \u001b[38;5;28mself\u001b[39m\u001b[38;5;241m.\u001b[39m_forward_pre_hooks\n\u001b[0;32m   1518\u001b[0m         \u001b[38;5;129;01mor\u001b[39;00m _global_backward_pre_hooks \u001b[38;5;129;01mor\u001b[39;00m _global_backward_hooks\n\u001b[0;32m   1519\u001b[0m         \u001b[38;5;129;01mor\u001b[39;00m _global_forward_hooks \u001b[38;5;129;01mor\u001b[39;00m _global_forward_pre_hooks):\n\u001b[1;32m-> 1520\u001b[0m     \u001b[38;5;28;01mreturn\u001b[39;00m forward_call(\u001b[38;5;241m*\u001b[39margs, \u001b[38;5;241m*\u001b[39m\u001b[38;5;241m*\u001b[39mkwargs)\n\u001b[0;32m   1522\u001b[0m \u001b[38;5;28;01mtry\u001b[39;00m:\n\u001b[0;32m   1523\u001b[0m     result \u001b[38;5;241m=\u001b[39m \u001b[38;5;28;01mNone\u001b[39;00m\n",
      "File \u001b[1;32mc:\\Users\\khali\\anaconda3\\envs\\trader\\lib\\site-packages\\transformers\\models\\pegasus\\modeling_pegasus.py:748\u001b[0m, in \u001b[0;36mPegasusEncoder.forward\u001b[1;34m(self, input_ids, attention_mask, head_mask, inputs_embeds, output_attentions, output_hidden_states, return_dict)\u001b[0m\n\u001b[0;32m    745\u001b[0m \u001b[38;5;28;01mif\u001b[39;00m inputs_embeds \u001b[38;5;129;01mis\u001b[39;00m \u001b[38;5;28;01mNone\u001b[39;00m:\n\u001b[0;32m    746\u001b[0m     inputs_embeds \u001b[38;5;241m=\u001b[39m \u001b[38;5;28mself\u001b[39m\u001b[38;5;241m.\u001b[39membed_tokens(input_ids) \u001b[38;5;241m*\u001b[39m \u001b[38;5;28mself\u001b[39m\u001b[38;5;241m.\u001b[39membed_scale\n\u001b[1;32m--> 748\u001b[0m embed_pos \u001b[38;5;241m=\u001b[39m \u001b[38;5;28;43mself\u001b[39;49m\u001b[38;5;241;43m.\u001b[39;49m\u001b[43membed_positions\u001b[49m\u001b[43m(\u001b[49m\u001b[43minput_shape\u001b[49m\u001b[43m)\u001b[49m\n\u001b[0;32m    750\u001b[0m hidden_states \u001b[38;5;241m=\u001b[39m inputs_embeds \u001b[38;5;241m+\u001b[39m embed_pos\n\u001b[0;32m    752\u001b[0m hidden_states \u001b[38;5;241m=\u001b[39m nn\u001b[38;5;241m.\u001b[39mfunctional\u001b[38;5;241m.\u001b[39mdropout(hidden_states, p\u001b[38;5;241m=\u001b[39m\u001b[38;5;28mself\u001b[39m\u001b[38;5;241m.\u001b[39mdropout, training\u001b[38;5;241m=\u001b[39m\u001b[38;5;28mself\u001b[39m\u001b[38;5;241m.\u001b[39mtraining)\n",
      "File \u001b[1;32mc:\\Users\\khali\\anaconda3\\envs\\trader\\lib\\site-packages\\torch\\nn\\modules\\module.py:1511\u001b[0m, in \u001b[0;36mModule._wrapped_call_impl\u001b[1;34m(self, *args, **kwargs)\u001b[0m\n\u001b[0;32m   1509\u001b[0m     \u001b[38;5;28;01mreturn\u001b[39;00m \u001b[38;5;28mself\u001b[39m\u001b[38;5;241m.\u001b[39m_compiled_call_impl(\u001b[38;5;241m*\u001b[39margs, \u001b[38;5;241m*\u001b[39m\u001b[38;5;241m*\u001b[39mkwargs)  \u001b[38;5;66;03m# type: ignore[misc]\u001b[39;00m\n\u001b[0;32m   1510\u001b[0m \u001b[38;5;28;01melse\u001b[39;00m:\n\u001b[1;32m-> 1511\u001b[0m     \u001b[38;5;28;01mreturn\u001b[39;00m \u001b[38;5;28mself\u001b[39m\u001b[38;5;241m.\u001b[39m_call_impl(\u001b[38;5;241m*\u001b[39margs, \u001b[38;5;241m*\u001b[39m\u001b[38;5;241m*\u001b[39mkwargs)\n",
      "File \u001b[1;32mc:\\Users\\khali\\anaconda3\\envs\\trader\\lib\\site-packages\\torch\\nn\\modules\\module.py:1520\u001b[0m, in \u001b[0;36mModule._call_impl\u001b[1;34m(self, *args, **kwargs)\u001b[0m\n\u001b[0;32m   1515\u001b[0m \u001b[38;5;66;03m# If we don't have any hooks, we want to skip the rest of the logic in\u001b[39;00m\n\u001b[0;32m   1516\u001b[0m \u001b[38;5;66;03m# this function, and just call forward.\u001b[39;00m\n\u001b[0;32m   1517\u001b[0m \u001b[38;5;28;01mif\u001b[39;00m \u001b[38;5;129;01mnot\u001b[39;00m (\u001b[38;5;28mself\u001b[39m\u001b[38;5;241m.\u001b[39m_backward_hooks \u001b[38;5;129;01mor\u001b[39;00m \u001b[38;5;28mself\u001b[39m\u001b[38;5;241m.\u001b[39m_backward_pre_hooks \u001b[38;5;129;01mor\u001b[39;00m \u001b[38;5;28mself\u001b[39m\u001b[38;5;241m.\u001b[39m_forward_hooks \u001b[38;5;129;01mor\u001b[39;00m \u001b[38;5;28mself\u001b[39m\u001b[38;5;241m.\u001b[39m_forward_pre_hooks\n\u001b[0;32m   1518\u001b[0m         \u001b[38;5;129;01mor\u001b[39;00m _global_backward_pre_hooks \u001b[38;5;129;01mor\u001b[39;00m _global_backward_hooks\n\u001b[0;32m   1519\u001b[0m         \u001b[38;5;129;01mor\u001b[39;00m _global_forward_hooks \u001b[38;5;129;01mor\u001b[39;00m _global_forward_pre_hooks):\n\u001b[1;32m-> 1520\u001b[0m     \u001b[38;5;28;01mreturn\u001b[39;00m forward_call(\u001b[38;5;241m*\u001b[39margs, \u001b[38;5;241m*\u001b[39m\u001b[38;5;241m*\u001b[39mkwargs)\n\u001b[0;32m   1522\u001b[0m \u001b[38;5;28;01mtry\u001b[39;00m:\n\u001b[0;32m   1523\u001b[0m     result \u001b[38;5;241m=\u001b[39m \u001b[38;5;28;01mNone\u001b[39;00m\n",
      "File \u001b[1;32mc:\\Users\\khali\\anaconda3\\envs\\trader\\lib\\site-packages\\torch\\utils\\_contextlib.py:115\u001b[0m, in \u001b[0;36mcontext_decorator.<locals>.decorate_context\u001b[1;34m(*args, **kwargs)\u001b[0m\n\u001b[0;32m    112\u001b[0m \u001b[38;5;129m@functools\u001b[39m\u001b[38;5;241m.\u001b[39mwraps(func)\n\u001b[0;32m    113\u001b[0m \u001b[38;5;28;01mdef\u001b[39;00m \u001b[38;5;21mdecorate_context\u001b[39m(\u001b[38;5;241m*\u001b[39margs, \u001b[38;5;241m*\u001b[39m\u001b[38;5;241m*\u001b[39mkwargs):\n\u001b[0;32m    114\u001b[0m     \u001b[38;5;28;01mwith\u001b[39;00m ctx_factory():\n\u001b[1;32m--> 115\u001b[0m         \u001b[38;5;28;01mreturn\u001b[39;00m func(\u001b[38;5;241m*\u001b[39margs, \u001b[38;5;241m*\u001b[39m\u001b[38;5;241m*\u001b[39mkwargs)\n",
      "File \u001b[1;32mc:\\Users\\khali\\anaconda3\\envs\\trader\\lib\\site-packages\\transformers\\models\\pegasus\\modeling_pegasus.py:108\u001b[0m, in \u001b[0;36mPegasusSinusoidalPositionalEmbedding.forward\u001b[1;34m(self, input_ids_shape, past_key_values_length)\u001b[0m\n\u001b[0;32m    104\u001b[0m bsz, seq_len \u001b[38;5;241m=\u001b[39m input_ids_shape[:\u001b[38;5;241m2\u001b[39m]\n\u001b[0;32m    105\u001b[0m positions \u001b[38;5;241m=\u001b[39m torch\u001b[38;5;241m.\u001b[39marange(\n\u001b[0;32m    106\u001b[0m     past_key_values_length, past_key_values_length \u001b[38;5;241m+\u001b[39m seq_len, dtype\u001b[38;5;241m=\u001b[39mtorch\u001b[38;5;241m.\u001b[39mlong, device\u001b[38;5;241m=\u001b[39m\u001b[38;5;28mself\u001b[39m\u001b[38;5;241m.\u001b[39mweight\u001b[38;5;241m.\u001b[39mdevice\n\u001b[0;32m    107\u001b[0m )\n\u001b[1;32m--> 108\u001b[0m \u001b[38;5;28;01mreturn\u001b[39;00m \u001b[38;5;28;43msuper\u001b[39;49m\u001b[43m(\u001b[49m\u001b[43m)\u001b[49m\u001b[38;5;241;43m.\u001b[39;49m\u001b[43mforward\u001b[49m\u001b[43m(\u001b[49m\u001b[43mpositions\u001b[49m\u001b[43m)\u001b[49m\n",
      "File \u001b[1;32mc:\\Users\\khali\\anaconda3\\envs\\trader\\lib\\site-packages\\torch\\nn\\modules\\sparse.py:163\u001b[0m, in \u001b[0;36mEmbedding.forward\u001b[1;34m(self, input)\u001b[0m\n\u001b[0;32m    162\u001b[0m \u001b[38;5;28;01mdef\u001b[39;00m \u001b[38;5;21mforward\u001b[39m(\u001b[38;5;28mself\u001b[39m, \u001b[38;5;28minput\u001b[39m: Tensor) \u001b[38;5;241m-\u001b[39m\u001b[38;5;241m>\u001b[39m Tensor:\n\u001b[1;32m--> 163\u001b[0m     \u001b[38;5;28;01mreturn\u001b[39;00m \u001b[43mF\u001b[49m\u001b[38;5;241;43m.\u001b[39;49m\u001b[43membedding\u001b[49m\u001b[43m(\u001b[49m\n\u001b[0;32m    164\u001b[0m \u001b[43m        \u001b[49m\u001b[38;5;28;43minput\u001b[39;49m\u001b[43m,\u001b[49m\u001b[43m \u001b[49m\u001b[38;5;28;43mself\u001b[39;49m\u001b[38;5;241;43m.\u001b[39;49m\u001b[43mweight\u001b[49m\u001b[43m,\u001b[49m\u001b[43m \u001b[49m\u001b[38;5;28;43mself\u001b[39;49m\u001b[38;5;241;43m.\u001b[39;49m\u001b[43mpadding_idx\u001b[49m\u001b[43m,\u001b[49m\u001b[43m \u001b[49m\u001b[38;5;28;43mself\u001b[39;49m\u001b[38;5;241;43m.\u001b[39;49m\u001b[43mmax_norm\u001b[49m\u001b[43m,\u001b[49m\n\u001b[0;32m    165\u001b[0m \u001b[43m        \u001b[49m\u001b[38;5;28;43mself\u001b[39;49m\u001b[38;5;241;43m.\u001b[39;49m\u001b[43mnorm_type\u001b[49m\u001b[43m,\u001b[49m\u001b[43m \u001b[49m\u001b[38;5;28;43mself\u001b[39;49m\u001b[38;5;241;43m.\u001b[39;49m\u001b[43mscale_grad_by_freq\u001b[49m\u001b[43m,\u001b[49m\u001b[43m \u001b[49m\u001b[38;5;28;43mself\u001b[39;49m\u001b[38;5;241;43m.\u001b[39;49m\u001b[43msparse\u001b[49m\u001b[43m)\u001b[49m\n",
      "File \u001b[1;32mc:\\Users\\khali\\anaconda3\\envs\\trader\\lib\\site-packages\\torch\\nn\\functional.py:2237\u001b[0m, in \u001b[0;36membedding\u001b[1;34m(input, weight, padding_idx, max_norm, norm_type, scale_grad_by_freq, sparse)\u001b[0m\n\u001b[0;32m   2231\u001b[0m     \u001b[38;5;66;03m# Note [embedding_renorm set_grad_enabled]\u001b[39;00m\n\u001b[0;32m   2232\u001b[0m     \u001b[38;5;66;03m# XXX: equivalent to\u001b[39;00m\n\u001b[0;32m   2233\u001b[0m     \u001b[38;5;66;03m# with torch.no_grad():\u001b[39;00m\n\u001b[0;32m   2234\u001b[0m     \u001b[38;5;66;03m#   torch.embedding_renorm_\u001b[39;00m\n\u001b[0;32m   2235\u001b[0m     \u001b[38;5;66;03m# remove once script supports set_grad_enabled\u001b[39;00m\n\u001b[0;32m   2236\u001b[0m     _no_grad_embedding_renorm_(weight, \u001b[38;5;28minput\u001b[39m, max_norm, norm_type)\n\u001b[1;32m-> 2237\u001b[0m \u001b[38;5;28;01mreturn\u001b[39;00m \u001b[43mtorch\u001b[49m\u001b[38;5;241;43m.\u001b[39;49m\u001b[43membedding\u001b[49m\u001b[43m(\u001b[49m\u001b[43mweight\u001b[49m\u001b[43m,\u001b[49m\u001b[43m \u001b[49m\u001b[38;5;28;43minput\u001b[39;49m\u001b[43m,\u001b[49m\u001b[43m \u001b[49m\u001b[43mpadding_idx\u001b[49m\u001b[43m,\u001b[49m\u001b[43m \u001b[49m\u001b[43mscale_grad_by_freq\u001b[49m\u001b[43m,\u001b[49m\u001b[43m \u001b[49m\u001b[43msparse\u001b[49m\u001b[43m)\u001b[49m\n",
      "\u001b[1;31mIndexError\u001b[0m: index out of range in self"
     ]
    }
   ],
   "source": [
    "# Encode the article for the model\n",
    "inputs = tokenizer(news_article, return_tensors=\"pt\")\n",
    "\n",
    "# Generate the summary with maximum length of 50 tokens\n",
    "summary_ids = model.generate(input_ids=inputs[\"input_ids\"], max_length=1024)\n",
    "\n",
    "# Decode the summary tokens back to text\n",
    "summary = tokenizer.batch_decode(summary_ids, skip_special_tokens=True)[0]\n",
    "\n",
    "# Print the original article and the summarized text\n",
    "print(\"Original Article:\")\n",
    "print(news_article)\n",
    "\n",
    "print(\"\\nSummary:\")\n",
    "print(summary)"
   ]
  },
  {
   "cell_type": "markdown",
   "metadata": {},
   "source": [
    "### T5-base fine-tuned fo News Summarization"
   ]
  },
  {
   "cell_type": "code",
   "execution_count": null,
   "metadata": {},
   "outputs": [],
   "source": [
    "from transformers import AutoModelWithLMHead, AutoTokenizer\n",
    "\n",
    "tokenizer = AutoTokenizer.from_pretrained(\"mrm8488/t5-base-finetuned-summarize-news\")\n",
    "model = AutoModelWithLMHead.from_pretrained(\"mrm8488/t5-base-finetuned-summarize-news\", force_download=True, resume_download=False)\n",
    "\n",
    "def summarize(text, max_length=150):\n",
    "  input_ids = tokenizer.encode(text, return_tensors=\"pt\", add_special_tokens=True)\n",
    "\n",
    "  generated_ids = model.generate(input_ids=input_ids, num_beams=2, max_length=max_length,  repetition_penalty=2.5, length_penalty=1.0, early_stopping=True)\n",
    "\n",
    "  preds = [tokenizer.decode(g, skip_special_tokens=True, clean_up_tokenization_spaces=True) for g in generated_ids]\n",
    "\n",
    "  return preds[0]\n",
    "summarize(news_article)"
   ]
  },
  {
   "cell_type": "markdown",
   "metadata": {},
   "source": [
    "### LLAMA 3"
   ]
  },
  {
   "cell_type": "code",
   "execution_count": null,
   "metadata": {},
   "outputs": [],
   "source": [
    "from transformers import AutoTokenizer, AutoModelForCausalLM\n",
    "import torch\n",
    "\n",
    "model_id = \"meta-llama/Meta-Llama-3-8B-Instruct\"\n",
    "\n",
    "tokenizer = AutoTokenizer.from_pretrained(model_id)\n",
    "model = AutoModelForCausalLM.from_pretrained(\n",
    "    model_id,\n",
    "    torch_dtype=torch.bfloat16,\n",
    "    device_map=\"auto\",\n",
    ")\n",
    "\n",
    "messages = [\n",
    "    {\"role\": \"system\", \"content\": \"You are a pirate chatbot who always responds in pirate speak!\"},\n",
    "    {\"role\": \"user\", \"content\": \"Who are you?\"},\n",
    "]\n",
    "\n",
    "input_ids = tokenizer.apply_chat_template(\n",
    "    messages,\n",
    "    add_generation_prompt=True,\n",
    "    return_tensors=\"pt\"\n",
    ").to(model.device)\n",
    "\n",
    "terminators = [\n",
    "    tokenizer.eos_token_id,\n",
    "    tokenizer.convert_tokens_to_ids(\"<|eot_id|>\")\n",
    "]\n",
    "\n",
    "outputs = model.generate(\n",
    "    input_ids,\n",
    "    max_new_tokens=256,\n",
    "    eos_token_id=terminators,\n",
    "    do_sample=True,\n",
    "    temperature=0.6,\n",
    "    top_p=0.9,\n",
    ")\n",
    "response = outputs[0][input_ids.shape[-1]:]\n",
    "print(tokenizer.decode(response, skip_special_tokens=True))\n"
   ]
  },
  {
   "cell_type": "markdown",
   "metadata": {},
   "source": [
    "### Pegasus second try :"
   ]
  },
  {
   "cell_type": "code",
   "execution_count": null,
   "metadata": {},
   "outputs": [
    {
     "data": {
      "application/vnd.jupyter.widget-view+json": {
       "model_id": "2a17726b067746c5b107cf8a8d073a15",
       "version_major": 2,
       "version_minor": 0
      },
      "text/plain": [
       "tokenizer_config.json:   0%|          | 0.00/1.61k [00:00<?, ?B/s]"
      ]
     },
     "metadata": {},
     "output_type": "display_data"
    },
    {
     "data": {
      "application/vnd.jupyter.widget-view+json": {
       "model_id": "b694312004264d3ba074fbe74b39c95c",
       "version_major": 2,
       "version_minor": 0
      },
      "text/plain": [
       "spiece.model:   0%|          | 0.00/1.91M [00:00<?, ?B/s]"
      ]
     },
     "metadata": {},
     "output_type": "display_data"
    },
    {
     "data": {
      "application/vnd.jupyter.widget-view+json": {
       "model_id": "ea7f371a45cf47f2aa26856786feb657",
       "version_major": 2,
       "version_minor": 0
      },
      "text/plain": [
       "special_tokens_map.json:   0%|          | 0.00/1.34k [00:00<?, ?B/s]"
      ]
     },
     "metadata": {},
     "output_type": "display_data"
    },
    {
     "data": {
      "application/vnd.jupyter.widget-view+json": {
       "model_id": "c6dc1652f2b0490b9198fdeec30ef0d7",
       "version_major": 2,
       "version_minor": 0
      },
      "text/plain": [
       "config.json:   0%|          | 0.00/1.42k [00:00<?, ?B/s]"
      ]
     },
     "metadata": {},
     "output_type": "display_data"
    },
    {
     "data": {
      "application/vnd.jupyter.widget-view+json": {
       "model_id": "328c86bf37934b3fbe583f1ff8b88fa8",
       "version_major": 2,
       "version_minor": 0
      },
      "text/plain": [
       "pytorch_model.bin:   0%|          | 0.00/2.28G [00:00<?, ?B/s]"
      ]
     },
     "metadata": {},
     "output_type": "display_data"
    },
    {
     "name": "stderr",
     "output_type": "stream",
     "text": [
      "c:\\Users\\khali\\anaconda3\\envs\\trader\\lib\\site-packages\\transformers\\generation\\configuration_utils.py:492: UserWarning: `do_sample` is set to `False`. However, `temperature` is set to `1.5` -- this flag is only used in sample-based generation modes. You should set `do_sample=True` or unset `temperature`.\n",
      "  warnings.warn(\n"
     ]
    },
    {
     "data": {
      "text/plain": [
       "[\"Epic Games, the maker of 'Fortnite', has accused Apple of delaying its attempts to set up a game store on iPhones and iPads in Europe. Epic said Apple rejected its store submissions twice because the button and label designs looked too much like the App Store's. Epic believes Apple's rejection is unfair and breaks the Digital Markets Act (DMA).\"]"
      ]
     },
     "execution_count": 19,
     "metadata": {},
     "output_type": "execute_result"
    }
   ],
   "source": [
    "import torch\n",
    "from transformers import PegasusForConditionalGeneration, PegasusTokenizer\n",
    "model_name = 'tuner007/pegasus_summarizer'\n",
    "torch_device = 'cuda' if torch.cuda.is_available() else 'cpu'\n",
    "tokenizer = PegasusTokenizer.from_pretrained(model_name)\n",
    "model = PegasusForConditionalGeneration.from_pretrained(model_name).to(torch_device)\n",
    "\n",
    "def get_response(input_text):\n",
    "  batch = tokenizer([input_text],truncation=True,padding='longest',max_length=1024, return_tensors=\"pt\").to(torch_device)\n",
    "  gen_out = model.generate(**batch,max_length=128,num_beams=5, num_return_sequences=1, temperature=1.5)\n",
    "  output_text = tokenizer.batch_decode(gen_out, skip_special_tokens=True)\n",
    "  return output_text\n",
    "get_response(news_article)"
   ]
  },
  {
   "cell_type": "code",
   "execution_count": null,
   "metadata": {},
   "outputs": [],
   "source": [
    "import newspaper \n",
    "\n",
    "art = newspaper.Article(json_resp[0]['url'])"
   ]
  },
  {
   "cell_type": "code",
   "execution_count": null,
   "metadata": {},
   "outputs": [
    {
     "data": {
      "text/plain": [
       "''"
      ]
     },
     "execution_count": 6,
     "metadata": {},
     "output_type": "execute_result"
    }
   ],
   "source": [
    "art.text"
   ]
  },
  {
   "cell_type": "code",
   "execution_count": null,
   "metadata": {},
   "outputs": [],
   "source": [
    "from newspaper import Article\n",
    "\n",
    "url = 'http://fox13now.com/2013/12/30/new-year-new-laws-obamacare-pot-guns-and-drones/'\n",
    "article = Article(url)\n"
   ]
  },
  {
   "cell_type": "code",
   "execution_count": null,
   "metadata": {},
   "outputs": [
    {
     "data": {
      "text/plain": [
       "''"
      ]
     },
     "execution_count": 3,
     "metadata": {},
     "output_type": "execute_result"
    }
   ],
   "source": [
    "article.text"
   ]
  }
 ],
 "metadata": {
  "kernelspec": {
   "display_name": "trader",
   "language": "python",
   "name": "python3"
  },
  "language_info": {
   "codemirror_mode": {
    "name": "ipython",
    "version": 3
   },
   "file_extension": ".py",
   "mimetype": "text/x-python",
   "name": "python",
   "nbconvert_exporter": "python",
   "pygments_lexer": "ipython3",
   "version": "3.10.14"
  }
 },
 "nbformat": 4,
 "nbformat_minor": 2
}
